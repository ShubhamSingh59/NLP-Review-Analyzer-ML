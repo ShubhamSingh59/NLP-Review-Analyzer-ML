{
 "cells": [
  {
   "cell_type": "code",
   "execution_count": 90,
   "id": "627c57e6-e41f-4ba1-a0c8-058b88474ec4",
   "metadata": {},
   "outputs": [],
   "source": [
    "import numpy as np\n",
    "import pandas as pd\n",
    "import seaborn as sns\n",
    "import matplotlib.pyplot as plt\n",
    "import string\n",
    "from nltk.corpus import stopwords\n",
    "from sklearn.feature_extraction.text import TfidfVectorizer\n",
    "from sklearn.preprocessing import StandardScaler\n",
    "from scipy.sparse import csr_matrix, hstack\n",
    "from sklearn.cluster import KMeans\n",
    "from sklearn.decomposition import PCA\n",
    "from sklearn.pipeline import Pipeline\n",
    "from sklearn.base import BaseEstimator, TransformerMixin"
   ]
  },
  {
   "cell_type": "code",
   "execution_count": 2,
   "id": "31e27b28-bfc4-4ba2-b079-01092237cd72",
   "metadata": {},
   "outputs": [],
   "source": [
    "df = pd.read_csv('reviews.csv')"
   ]
  },
  {
   "cell_type": "code",
   "execution_count": 3,
   "id": "d2731b06-2544-43fa-8e45-3039985b30ab",
   "metadata": {},
   "outputs": [
    {
     "data": {
      "text/html": [
       "<div>\n",
       "<style scoped>\n",
       "    .dataframe tbody tr th:only-of-type {\n",
       "        vertical-align: middle;\n",
       "    }\n",
       "\n",
       "    .dataframe tbody tr th {\n",
       "        vertical-align: top;\n",
       "    }\n",
       "\n",
       "    .dataframe thead th {\n",
       "        text-align: right;\n",
       "    }\n",
       "</style>\n",
       "<table border=\"1\" class=\"dataframe\">\n",
       "  <thead>\n",
       "    <tr style=\"text-align: right;\">\n",
       "      <th></th>\n",
       "      <th>reviewId</th>\n",
       "      <th>userName</th>\n",
       "      <th>userImage</th>\n",
       "      <th>content</th>\n",
       "      <th>score</th>\n",
       "      <th>thumbsUpCount</th>\n",
       "      <th>reviewCreatedVersion</th>\n",
       "      <th>at</th>\n",
       "      <th>replyContent</th>\n",
       "      <th>repliedAt</th>\n",
       "      <th>sortOrder</th>\n",
       "      <th>appId</th>\n",
       "    </tr>\n",
       "  </thead>\n",
       "  <tbody>\n",
       "    <tr>\n",
       "      <th>0</th>\n",
       "      <td>gp:AOqpTOEhZuqSqqWnaKRgv-9ABYdajFUB0WugPGh-SG-...</td>\n",
       "      <td>Eric Tie</td>\n",
       "      <td>https://play-lh.googleusercontent.com/a-/AOh14...</td>\n",
       "      <td>I cannot open the app anymore</td>\n",
       "      <td>1</td>\n",
       "      <td>0</td>\n",
       "      <td>5.4.0.6</td>\n",
       "      <td>27-10-2020 21:24</td>\n",
       "      <td>NaN</td>\n",
       "      <td>NaN</td>\n",
       "      <td>newest</td>\n",
       "      <td>com.anydo</td>\n",
       "    </tr>\n",
       "    <tr>\n",
       "      <th>1</th>\n",
       "      <td>gp:AOqpTOH0WP4IQKBZ2LrdNmFy_YmpPCVrV3diEU9KGm3...</td>\n",
       "      <td>john alpha</td>\n",
       "      <td>https://play-lh.googleusercontent.com/a-/AOh14...</td>\n",
       "      <td>I have been begging for a refund from this app...</td>\n",
       "      <td>1</td>\n",
       "      <td>0</td>\n",
       "      <td>NaN</td>\n",
       "      <td>27-10-2020 14:03</td>\n",
       "      <td>Please note that from checking our records, yo...</td>\n",
       "      <td>27-10-2020 15:05</td>\n",
       "      <td>newest</td>\n",
       "      <td>com.anydo</td>\n",
       "    </tr>\n",
       "    <tr>\n",
       "      <th>2</th>\n",
       "      <td>gp:AOqpTOEMCkJB8Iq1p-r9dPwnSYadA5BkPWTf32Z1azu...</td>\n",
       "      <td>Sudhakar .S</td>\n",
       "      <td>https://play-lh.googleusercontent.com/a-/AOh14...</td>\n",
       "      <td>Very costly for the premium version (approx In...</td>\n",
       "      <td>1</td>\n",
       "      <td>0</td>\n",
       "      <td>NaN</td>\n",
       "      <td>27-10-2020 08:18</td>\n",
       "      <td>NaN</td>\n",
       "      <td>NaN</td>\n",
       "      <td>newest</td>\n",
       "      <td>com.anydo</td>\n",
       "    </tr>\n",
       "    <tr>\n",
       "      <th>3</th>\n",
       "      <td>gp:AOqpTOGFrUWuKGycpje8kszj3uwHN6tU_fd4gLVFy9z...</td>\n",
       "      <td>SKGflorida@bellsouth.net DAVID S</td>\n",
       "      <td>https://play-lh.googleusercontent.com/-75aK0WF...</td>\n",
       "      <td>Used to keep me organized, but all the 2020 UP...</td>\n",
       "      <td>1</td>\n",
       "      <td>0</td>\n",
       "      <td>NaN</td>\n",
       "      <td>26-10-2020 13:28</td>\n",
       "      <td>What do you find troublesome about the update?...</td>\n",
       "      <td>26-10-2020 14:58</td>\n",
       "      <td>newest</td>\n",
       "      <td>com.anydo</td>\n",
       "    </tr>\n",
       "    <tr>\n",
       "      <th>4</th>\n",
       "      <td>gp:AOqpTOHls7DW8wmDFzTkHwxuqFkdNQtKHmO6Pt9jhZE...</td>\n",
       "      <td>Louann Stoker</td>\n",
       "      <td>https://play-lh.googleusercontent.com/-pBcY_Z-...</td>\n",
       "      <td>Dan Birthday Oct 28</td>\n",
       "      <td>1</td>\n",
       "      <td>0</td>\n",
       "      <td>5.6.0.7</td>\n",
       "      <td>26-10-2020 06:10</td>\n",
       "      <td>NaN</td>\n",
       "      <td>NaN</td>\n",
       "      <td>newest</td>\n",
       "      <td>com.anydo</td>\n",
       "    </tr>\n",
       "  </tbody>\n",
       "</table>\n",
       "</div>"
      ],
      "text/plain": [
       "                                            reviewId  \\\n",
       "0  gp:AOqpTOEhZuqSqqWnaKRgv-9ABYdajFUB0WugPGh-SG-...   \n",
       "1  gp:AOqpTOH0WP4IQKBZ2LrdNmFy_YmpPCVrV3diEU9KGm3...   \n",
       "2  gp:AOqpTOEMCkJB8Iq1p-r9dPwnSYadA5BkPWTf32Z1azu...   \n",
       "3  gp:AOqpTOGFrUWuKGycpje8kszj3uwHN6tU_fd4gLVFy9z...   \n",
       "4  gp:AOqpTOHls7DW8wmDFzTkHwxuqFkdNQtKHmO6Pt9jhZE...   \n",
       "\n",
       "                           userName  \\\n",
       "0                          Eric Tie   \n",
       "1                        john alpha   \n",
       "2                       Sudhakar .S   \n",
       "3  SKGflorida@bellsouth.net DAVID S   \n",
       "4                     Louann Stoker   \n",
       "\n",
       "                                           userImage  \\\n",
       "0  https://play-lh.googleusercontent.com/a-/AOh14...   \n",
       "1  https://play-lh.googleusercontent.com/a-/AOh14...   \n",
       "2  https://play-lh.googleusercontent.com/a-/AOh14...   \n",
       "3  https://play-lh.googleusercontent.com/-75aK0WF...   \n",
       "4  https://play-lh.googleusercontent.com/-pBcY_Z-...   \n",
       "\n",
       "                                             content  score  thumbsUpCount  \\\n",
       "0                      I cannot open the app anymore      1              0   \n",
       "1  I have been begging for a refund from this app...      1              0   \n",
       "2  Very costly for the premium version (approx In...      1              0   \n",
       "3  Used to keep me organized, but all the 2020 UP...      1              0   \n",
       "4                                Dan Birthday Oct 28      1              0   \n",
       "\n",
       "  reviewCreatedVersion                at  \\\n",
       "0              5.4.0.6  27-10-2020 21:24   \n",
       "1                  NaN  27-10-2020 14:03   \n",
       "2                  NaN  27-10-2020 08:18   \n",
       "3                  NaN  26-10-2020 13:28   \n",
       "4              5.6.0.7  26-10-2020 06:10   \n",
       "\n",
       "                                        replyContent         repliedAt  \\\n",
       "0                                                NaN               NaN   \n",
       "1  Please note that from checking our records, yo...  27-10-2020 15:05   \n",
       "2                                                NaN               NaN   \n",
       "3  What do you find troublesome about the update?...  26-10-2020 14:58   \n",
       "4                                                NaN               NaN   \n",
       "\n",
       "  sortOrder      appId  \n",
       "0    newest  com.anydo  \n",
       "1    newest  com.anydo  \n",
       "2    newest  com.anydo  \n",
       "3    newest  com.anydo  \n",
       "4    newest  com.anydo  "
      ]
     },
     "execution_count": 3,
     "metadata": {},
     "output_type": "execute_result"
    }
   ],
   "source": [
    "df.head()"
   ]
  },
  {
   "cell_type": "markdown",
   "id": "176ba100-354e-4416-b43b-4bbb967c3c1b",
   "metadata": {},
   "source": [
    "##### Droping the columns which we do not need."
   ]
  },
  {
   "cell_type": "code",
   "execution_count": 4,
   "id": "f5e26eb6-bfd8-4a77-b2bd-5ceecfbca978",
   "metadata": {},
   "outputs": [],
   "source": [
    "drop_columns = ['reviewId', 'userName', 'userImage', 'at', 'replyContent', 'repliedAt', 'sortOrder', 'appId']\n",
    "\n",
    "df = df.drop(columns=drop_columns, axis=1)"
   ]
  },
  {
   "cell_type": "code",
   "execution_count": 5,
   "id": "eaa33c0a-8961-41d8-ace3-4bf8bce5ebee",
   "metadata": {},
   "outputs": [
    {
     "data": {
      "text/html": [
       "<div>\n",
       "<style scoped>\n",
       "    .dataframe tbody tr th:only-of-type {\n",
       "        vertical-align: middle;\n",
       "    }\n",
       "\n",
       "    .dataframe tbody tr th {\n",
       "        vertical-align: top;\n",
       "    }\n",
       "\n",
       "    .dataframe thead th {\n",
       "        text-align: right;\n",
       "    }\n",
       "</style>\n",
       "<table border=\"1\" class=\"dataframe\">\n",
       "  <thead>\n",
       "    <tr style=\"text-align: right;\">\n",
       "      <th></th>\n",
       "      <th>content</th>\n",
       "      <th>score</th>\n",
       "      <th>thumbsUpCount</th>\n",
       "      <th>reviewCreatedVersion</th>\n",
       "    </tr>\n",
       "  </thead>\n",
       "  <tbody>\n",
       "    <tr>\n",
       "      <th>0</th>\n",
       "      <td>I cannot open the app anymore</td>\n",
       "      <td>1</td>\n",
       "      <td>0</td>\n",
       "      <td>5.4.0.6</td>\n",
       "    </tr>\n",
       "    <tr>\n",
       "      <th>1</th>\n",
       "      <td>I have been begging for a refund from this app...</td>\n",
       "      <td>1</td>\n",
       "      <td>0</td>\n",
       "      <td>NaN</td>\n",
       "    </tr>\n",
       "    <tr>\n",
       "      <th>2</th>\n",
       "      <td>Very costly for the premium version (approx In...</td>\n",
       "      <td>1</td>\n",
       "      <td>0</td>\n",
       "      <td>NaN</td>\n",
       "    </tr>\n",
       "    <tr>\n",
       "      <th>3</th>\n",
       "      <td>Used to keep me organized, but all the 2020 UP...</td>\n",
       "      <td>1</td>\n",
       "      <td>0</td>\n",
       "      <td>NaN</td>\n",
       "    </tr>\n",
       "    <tr>\n",
       "      <th>4</th>\n",
       "      <td>Dan Birthday Oct 28</td>\n",
       "      <td>1</td>\n",
       "      <td>0</td>\n",
       "      <td>5.6.0.7</td>\n",
       "    </tr>\n",
       "  </tbody>\n",
       "</table>\n",
       "</div>"
      ],
      "text/plain": [
       "                                             content  score  thumbsUpCount  \\\n",
       "0                      I cannot open the app anymore      1              0   \n",
       "1  I have been begging for a refund from this app...      1              0   \n",
       "2  Very costly for the premium version (approx In...      1              0   \n",
       "3  Used to keep me organized, but all the 2020 UP...      1              0   \n",
       "4                                Dan Birthday Oct 28      1              0   \n",
       "\n",
       "  reviewCreatedVersion  \n",
       "0              5.4.0.6  \n",
       "1                  NaN  \n",
       "2                  NaN  \n",
       "3                  NaN  \n",
       "4              5.6.0.7  "
      ]
     },
     "execution_count": 5,
     "metadata": {},
     "output_type": "execute_result"
    }
   ],
   "source": [
    "df.head(5)"
   ]
  },
  {
   "cell_type": "code",
   "execution_count": 6,
   "id": "0f72e757-9662-4440-ad25-eb5716f963f3",
   "metadata": {},
   "outputs": [
    {
     "data": {
      "text/plain": [
       "content                    0\n",
       "score                      0\n",
       "thumbsUpCount              0\n",
       "reviewCreatedVersion    2162\n",
       "dtype: int64"
      ]
     },
     "execution_count": 6,
     "metadata": {},
     "output_type": "execute_result"
    }
   ],
   "source": [
    "df.isnull().sum()"
   ]
  },
  {
   "cell_type": "code",
   "execution_count": 7,
   "id": "890172df-b108-4c8c-9490-d4c362271ab1",
   "metadata": {},
   "outputs": [
    {
     "data": {
      "text/plain": [
       "(12495, 4)"
      ]
     },
     "execution_count": 7,
     "metadata": {},
     "output_type": "execute_result"
    }
   ],
   "source": [
    "df.shape"
   ]
  },
  {
   "cell_type": "code",
   "execution_count": 8,
   "id": "808b0674-0cce-41ae-b5b2-5c958f04626e",
   "metadata": {},
   "outputs": [
    {
     "data": {
      "text/plain": [
       "content                 object\n",
       "score                    int64\n",
       "thumbsUpCount            int64\n",
       "reviewCreatedVersion    object\n",
       "dtype: object"
      ]
     },
     "execution_count": 8,
     "metadata": {},
     "output_type": "execute_result"
    }
   ],
   "source": [
    "df.dtypes"
   ]
  },
  {
   "cell_type": "code",
   "execution_count": 9,
   "id": "c79c6ee7-1a33-4d18-9454-b9541f5f5602",
   "metadata": {},
   "outputs": [
    {
     "data": {
      "text/plain": [
       "array(['5.4.0.6', nan, '5.6.0.7', '5.6.0.6', '5.5.0.8', '4.12.0.5',\n",
       "       '5.6.0.1', '4.10.3.4', '5.5.0.4', '3.4.7.2', '5.2.0.23',\n",
       "       '4.15.5.4', '4.16.6.2', '5.2.0.9', '4.17.0.2', '4.10.6.1',\n",
       "       '5.0.0.10', '4.15.9.6', '5.1.2.2', '4.15.9.12', '4.0.11.3',\n",
       "       '4.15.4.11', '4.17.0.3', '5.1.1.13', '4.16.2.7', '5.0.0.11',\n",
       "       '4.16.1.6', '4.19.0.6', '2.53', '4.10.2.6', '4.16.5.0', '4.16.4.6',\n",
       "       '4.16.3.6', '4.10.0.34-wear', '4.16.2.5', '3.4.15.1', '4.15.9.9',\n",
       "       '3.4.16.1', '5.3.0.5', '3.4.23.5', '3.4.13.20', '4.15.6.9',\n",
       "       '4.15.8.11', '4.9.1.2', '4.15.3.4', '4.9.5.1', '2.02', '4.15.1.5',\n",
       "       '16.1.3', '16.1.2', '16.1.1', '16.1.0', '15.7.2', '16.0.0',\n",
       "       '3.6.0', '15.9.2', '3.5.2', '15.9.0', '15.8.3', '12.5.1', '15.8.2',\n",
       "       '12.5.4', '15.8.0', '15.7.3', '15.6.0', '15.7.0', '3.3.2',\n",
       "       '15.0.1', '15.6.1', '12.8.2', '15.5.1', '15.4.0', '15.3.3',\n",
       "       '15.3.2', '15.2.0', '12.1.1', '3.5.0', '13.4.9', '15.7.1',\n",
       "       '15.1.0', '15.0.8', '15.0.7', '15.0.6', '15.0.5', '15.0.4',\n",
       "       '10.1.2', '15.0.3', '15.0.2', '14.4.7', '3.0.1', '15.0.0',\n",
       "       '14.4.5', '14.4.1', '14.3.1', '14.1.0', '14.3.0', '14.2.3',\n",
       "       '14.2.2', '14.2.1', '13.4.1', '14.0.0', '13.6.2', '13.6.1',\n",
       "       '8.0.5', '0.5.5.1', '13.4.5', '13.4.3', '12.4.1', '13.4', '13.3.2',\n",
       "       '11.1.2', '3.0.3', '12.7.4', '3.7.2', '3.7.0', '5.8.4.2', '5.8.3',\n",
       "       '5.0.1', '5.5.5.0', '5.8.2', '5.5.6.0', '5.8.1.5', '5.8.1',\n",
       "       '5.8.0', '5.7.2', '5.6.0', '5.7.1', '5.7.0', '5.5.1.0', '5.5.0.2',\n",
       "       '4.8.6', '5.4.1', '5.4.0', '4.8.5', '5.3.1', '5.8.4.1', '4.8.0',\n",
       "       '5.5.0.1', '5.5.0', '5.3.0', '5.2.2', '5.2.0', '3.6.0.1', '5.1.1',\n",
       "       '5.1.0', '5.0.2', '5.0.0', '4.7.5', '4.7.0', '4.6.5', '4.6.0',\n",
       "       '4.5.0', '4.4.5', '4.4.02', '4.4.01', '4.3.5.1', '4.3.0', '4.2.5',\n",
       "       '4.2.1', '5.2.3', '4.1.5', '2.6.4', '3.0.2', '3.0.1.1', '3',\n",
       "       '2.8.1', '2.8', '2.7', '2.6.2', '2.6.1', '2.5', '2.6', '1.4.3',\n",
       "       '2.4.4', '2.4.3', '2.3', '2.4.2', '2.4', '2.2.2', '2.2.1', '2.1.1',\n",
       "       '2.1', '2.0.4', '2.0.3', '2.0.2', '1.1.6', '2.0.1', '1.9.3',\n",
       "       '1.7.1', '1.9.2', '1.7', '1.9', '1.8.1', '1.8', '1.4.5', '1.4.4',\n",
       "       '1.6.1', '1.6', '1.5.1', '1.9.1', '2.2', '2.0.6', '2', '1.5',\n",
       "       '0.0.26.2', '1.4.2', '1.4', '1.3.3', '1.3.2', '1.3.1', '1.2.3',\n",
       "       '1.2.1', '1.2', '2.7.1', '2.0.5', '0.0.32.1', '1.0.3', '4.26.0',\n",
       "       '4.23.0', '4.9.7', '4.24.1', '4.8.4', '4.17.4', '4.22.2', '4.15.0',\n",
       "       '4.24.0', '4.23.1', '4.13.0', '4.22.1', '4.6.2', '4.21.1',\n",
       "       '4.22.0', '3.8', '4.21.0', '4.12.2', '4.20.0', '4.19.2', '4.17.2',\n",
       "       '4.19.0', '4.18.1', '3.21.2', '4.17.1', '4.13.1', '4.4', '4.17.3',\n",
       "       '1.5.15', '1.5.10', '1.5.11', '1.5.14', '1.5.13', '1.5.2', '1.5.5',\n",
       "       '1.4.9', '1.3.6', '1.2.8', '0.8.4', '1.5.9', '1.5.12', '2.29.0',\n",
       "       '2.28.0', '2.27.1', '2.27.0', '2.26.0', '2.24.0', '2.23.0',\n",
       "       '2.22.0', '2.21.1', '2.21.0', '2.20.0', '2.19.1', '2.16.0',\n",
       "       '2.18.0', '2.15.1', '2.14.1', '2.11.0', '2.10.1', '2.9.1', '2.6.3',\n",
       "       '2.6.0', '2.5.0', '1.6.0', '2.12.0', '2.19.0', '2.17.0', '2.13.0',\n",
       "       '2.10.0', '2.7.2', '2.2.0', '2.30.0', '2.25.1', '2.25.0', '2.15.0',\n",
       "       '2.7.3', '2.4.0', '2.0.0', '1.5.4', '2.14.0', '2.9.0', '2.8.0',\n",
       "       '2.3.1', '1.3.4', '1.1.47', '1.1.42', '1.1.46', '2.29.170',\n",
       "       '2.28.169', '2.27.168', '2.25.165', '2.26.166', '2.13.151',\n",
       "       '2.17.158', '2.23.163', '2.19.160', '2.26.7790.Insiders',\n",
       "       '2.21.162', '2.5.137', '1.40.91', '2.20.161', '1.45.98',\n",
       "       '2.13.150', '2.12.7758.Insiders', '2.16.154', '2.10.147', '1.4.0',\n",
       "       '2.18.159', '2.15.153', '1.51.104', '1.20.43', '2.5.7730.Insiders',\n",
       "       '2.25.7788.Insiders', '2.18.7777.Insiders', '2.12.149', '5.17',\n",
       "       '5.16', '5.13.2', '5.9.1', '5.15', '5.12.1', '5.14.1', '5.10.3',\n",
       "       '5.11.5', '5.6.2', '5.10.2', '5.8', '5.5.1', '5.4', '5.12', '5.9',\n",
       "       '5.3.2', '5.2.4', '5.2.1', '4.5', '4.3.1', '3.5', '5.13', '3.2',\n",
       "       '3.1', '2.9.2', '2.9', '2.6.8', '2.6.6', '2.6.7', '2.6.5',\n",
       "       '2.6 BETA 3', '2.4.1', '2.5.3', '2.5.2', '2.5.1', '2.9.3', '2.3.4',\n",
       "       '2.3.3', '2.3.2', '1.5.3', '1.4.8', '1.7.3', '1.6.2', '1.5.6',\n",
       "       '1.2.17', '1.2.16', '1.2.15', '1.2.14', '1.2.13', '1.2.12',\n",
       "       '1.1.2', '1.0.1', '1.7.2', '1.6.4', '1.2.19', '1.4.6', '1.2.20',\n",
       "       '1.1.4', '1.6.3', '1.5.0', '1.2.7', '1.0.8', '1.0.6', '1.0.5',\n",
       "       '1.3.0', '1.1.5', '1.0.7', '1.0.2', '1.34.4', '2.1.0', '1.25',\n",
       "       '1.33.3', '1.34.3', '1.34', '1.3', '1.33.2', '1.33', '1.31',\n",
       "       '1.28', '1.26', '1.25.1', '1.21', '1.24.2', '1.20.3', '1.19.2',\n",
       "       '1.18', '1.34.1', '1.29', '1.24.1', '1.23', '1.18.1', '1.17',\n",
       "       '1.11', '1.1', '1.32', '2.15.2', '2.40.8', '2.40.7', '2.40.6',\n",
       "       '2.40.5', '2.40.3', '2.40.4', '2.39.0', '2.37.9', '2.32.2',\n",
       "       '2.26.2', '2.38.2', '2.38.1', '2.34.1', '2.38.0', '2.36.2',\n",
       "       '2.35.1', '2.33.2', '2.37.2', '2.37.7', '2.34.2', '2.40.2',\n",
       "       '2.37.3', '2.35.0', '2.30.1', '2.37.6', '2.37.0', '2.37.1',\n",
       "       '2.33.1', '2.33.0', '2.32.1', '2.31.3', '2.31.2', '2.31.1',\n",
       "       '2.37.4', '2.37.5', '5.0.7', '5.0.6', '5.0.5', '4.7.2', '4.7',\n",
       "       '4.7.1', '4.3.7', '4.6', '4.5.7', '4.5.4', '4.5.8', '4.5.5',\n",
       "       '4.5.6', '4.5.1', '4.5.2', '4.4.1', '5.0.4', '4.2.0', '4.3.6',\n",
       "       '4.3.4', '3.2.3', '4.3.3', '4.3.2', '4.2.2', '4.1.1', '4.0.1', '4',\n",
       "       '3.2.2', '3.2.1', '3.1.1', '4.3.5', '4.1'], dtype=object)"
      ]
     },
     "execution_count": 9,
     "metadata": {},
     "output_type": "execute_result"
    }
   ],
   "source": [
    "df['reviewCreatedVersion'].unique()"
   ]
  },
  {
   "cell_type": "markdown",
   "id": "d60faee2-764c-424f-9fc2-6dcfd84dae82",
   "metadata": {},
   "source": [
    "##### WE will drop the app version column also."
   ]
  },
  {
   "cell_type": "code",
   "execution_count": 10,
   "id": "a29f372d-7d49-45a5-992a-d7da6eb0a8a6",
   "metadata": {},
   "outputs": [],
   "source": [
    "df = df.drop('reviewCreatedVersion', axis = 1)"
   ]
  },
  {
   "cell_type": "code",
   "execution_count": 11,
   "id": "303db20f-f0af-40bf-912b-fdb4b8b7bd94",
   "metadata": {},
   "outputs": [
    {
     "data": {
      "text/html": [
       "<div>\n",
       "<style scoped>\n",
       "    .dataframe tbody tr th:only-of-type {\n",
       "        vertical-align: middle;\n",
       "    }\n",
       "\n",
       "    .dataframe tbody tr th {\n",
       "        vertical-align: top;\n",
       "    }\n",
       "\n",
       "    .dataframe thead th {\n",
       "        text-align: right;\n",
       "    }\n",
       "</style>\n",
       "<table border=\"1\" class=\"dataframe\">\n",
       "  <thead>\n",
       "    <tr style=\"text-align: right;\">\n",
       "      <th></th>\n",
       "      <th>content</th>\n",
       "      <th>score</th>\n",
       "      <th>thumbsUpCount</th>\n",
       "    </tr>\n",
       "  </thead>\n",
       "  <tbody>\n",
       "    <tr>\n",
       "      <th>0</th>\n",
       "      <td>I cannot open the app anymore</td>\n",
       "      <td>1</td>\n",
       "      <td>0</td>\n",
       "    </tr>\n",
       "    <tr>\n",
       "      <th>1</th>\n",
       "      <td>I have been begging for a refund from this app...</td>\n",
       "      <td>1</td>\n",
       "      <td>0</td>\n",
       "    </tr>\n",
       "    <tr>\n",
       "      <th>2</th>\n",
       "      <td>Very costly for the premium version (approx In...</td>\n",
       "      <td>1</td>\n",
       "      <td>0</td>\n",
       "    </tr>\n",
       "    <tr>\n",
       "      <th>3</th>\n",
       "      <td>Used to keep me organized, but all the 2020 UP...</td>\n",
       "      <td>1</td>\n",
       "      <td>0</td>\n",
       "    </tr>\n",
       "    <tr>\n",
       "      <th>4</th>\n",
       "      <td>Dan Birthday Oct 28</td>\n",
       "      <td>1</td>\n",
       "      <td>0</td>\n",
       "    </tr>\n",
       "  </tbody>\n",
       "</table>\n",
       "</div>"
      ],
      "text/plain": [
       "                                             content  score  thumbsUpCount\n",
       "0                      I cannot open the app anymore      1              0\n",
       "1  I have been begging for a refund from this app...      1              0\n",
       "2  Very costly for the premium version (approx In...      1              0\n",
       "3  Used to keep me organized, but all the 2020 UP...      1              0\n",
       "4                                Dan Birthday Oct 28      1              0"
      ]
     },
     "execution_count": 11,
     "metadata": {},
     "output_type": "execute_result"
    }
   ],
   "source": [
    "df.head()"
   ]
  },
  {
   "cell_type": "code",
   "execution_count": 12,
   "id": "5ef78c3a-f587-4d5d-badb-af426f3e8ba9",
   "metadata": {},
   "outputs": [
    {
     "data": {
      "text/plain": [
       "array([1, 2, 3, 4, 5], dtype=int64)"
      ]
     },
     "execution_count": 12,
     "metadata": {},
     "output_type": "execute_result"
    }
   ],
   "source": [
    "df['score'].unique()"
   ]
  },
  {
   "cell_type": "code",
   "execution_count": 13,
   "id": "b62b5870-a7b2-44a6-bba7-16c3e71ad3f2",
   "metadata": {},
   "outputs": [
    {
     "data": {
      "text/plain": [
       "array([  0,   1,  17,  20,  59,   2,   3,  86,  10,  61,  18,  22,  19,\n",
       "        29, 127,  13,  30,  21,  81,  16,  11,   5,  60,   7,  24,  12,\n",
       "         8, 107,   6,   4,  14,  49,  45,  74,   9,  35,  71,  51,  55,\n",
       "        31,  96,  33,  70, 156,  23, 179, 175,  25, 101, 231, 148, 116,\n",
       "        39,  37,  75,  83,  65, 115,  38,  27,  80,  92,  40, 270, 184,\n",
       "       157,  73, 173, 282,  26,  36,  15,  32,  52, 319,  53, 118,  28,\n",
       "        79, 119,  62, 138,  46,  63,  34,  72,  91,  47,  88,  50, 142,\n",
       "        44,  41,  43,  54,  48,  90,  84, 178,  77, 290, 121,  89, 100,\n",
       "        85,  98,  87, 281, 187, 133, 103, 278, 177,  93, 117,  66, 125,\n",
       "        64, 113,  97,  69,  58, 109,  42, 160,  94, 205, 105,  99,  57,\n",
       "        78, 136, 143, 124, 241, 162,  68, 397, 339], dtype=int64)"
      ]
     },
     "execution_count": 13,
     "metadata": {},
     "output_type": "execute_result"
    }
   ],
   "source": [
    "df['thumbsUpCount'].unique()"
   ]
  },
  {
   "cell_type": "code",
   "execution_count": 14,
   "id": "ce4cd0ad-4af2-4115-b5ff-e9c9e9b51be6",
   "metadata": {},
   "outputs": [
    {
     "data": {
      "text/plain": [
       "thumbsUpCount\n",
       "0      8731\n",
       "1      1381\n",
       "2       552\n",
       "3       314\n",
       "4       196\n",
       "       ... \n",
       "85        1\n",
       "98        1\n",
       "87        1\n",
       "281       1\n",
       "339       1\n",
       "Name: count, Length: 139, dtype: int64"
      ]
     },
     "execution_count": 14,
     "metadata": {},
     "output_type": "execute_result"
    }
   ],
   "source": [
    "df['thumbsUpCount'].value_counts()"
   ]
  },
  {
   "cell_type": "code",
   "execution_count": 15,
   "id": "7b16e5fc-59a9-4ac0-8e3f-b3056d86a59b",
   "metadata": {},
   "outputs": [
    {
     "data": {
      "text/plain": [
       "score\n",
       "5    2879\n",
       "4    2775\n",
       "1    2506\n",
       "2    2344\n",
       "3    1991\n",
       "Name: count, dtype: int64"
      ]
     },
     "execution_count": 15,
     "metadata": {},
     "output_type": "execute_result"
    }
   ],
   "source": [
    "df['score'].value_counts()"
   ]
  },
  {
   "cell_type": "code",
   "execution_count": 16,
   "id": "5df50dc1-7d5d-4ee0-92c8-29f9359c5455",
   "metadata": {},
   "outputs": [
    {
     "data": {
      "text/plain": [
       "count    12495.000000\n",
       "mean         3.047459\n",
       "std         14.303903\n",
       "min          0.000000\n",
       "25%          0.000000\n",
       "50%          0.000000\n",
       "75%          1.000000\n",
       "max        397.000000\n",
       "Name: thumbsUpCount, dtype: float64"
      ]
     },
     "execution_count": 16,
     "metadata": {},
     "output_type": "execute_result"
    }
   ],
   "source": [
    "df['thumbsUpCount'].describe()"
   ]
  },
  {
   "cell_type": "markdown",
   "id": "51e8d98d-69d0-47a7-b3a1-98feac655c44",
   "metadata": {},
   "source": [
    "###### Now we have deal with only content coulmn. We will remove the punc and stops words first."
   ]
  },
  {
   "cell_type": "code",
   "execution_count": 17,
   "id": "5650b37f-dc81-4273-b25e-d9a8283c0911",
   "metadata": {},
   "outputs": [
    {
     "name": "stdout",
     "output_type": "stream",
     "text": [
      "!\"#$%&'()*+,-./:;<=>?@[\\]^_`{|}~\n"
     ]
    }
   ],
   "source": [
    "print(string.punctuation)"
   ]
  },
  {
   "cell_type": "code",
   "execution_count": 18,
   "id": "35447867-b57e-47dc-bd75-85925eda1635",
   "metadata": {},
   "outputs": [],
   "source": [
    "message = df['content'][0]"
   ]
  },
  {
   "cell_type": "code",
   "execution_count": 19,
   "id": "9a56dff8-45a6-4d82-9fbb-ebdd0fc7b9f2",
   "metadata": {},
   "outputs": [
    {
     "data": {
      "text/plain": [
       "'I cannot open the app anymore'"
      ]
     },
     "execution_count": 19,
     "metadata": {},
     "output_type": "execute_result"
    }
   ],
   "source": [
    "message"
   ]
  },
  {
   "cell_type": "code",
   "execution_count": 20,
   "id": "82b29f43-2079-42e5-96aa-4e647b07a9ca",
   "metadata": {},
   "outputs": [],
   "source": [
    "nonpunc = [c for c in message if c not in string.punctuation]"
   ]
  },
  {
   "cell_type": "code",
   "execution_count": 21,
   "id": "718eeb3e-b5f5-43ef-af38-04792955c15d",
   "metadata": {},
   "outputs": [
    {
     "data": {
      "text/plain": [
       "['I',\n",
       " ' ',\n",
       " 'c',\n",
       " 'a',\n",
       " 'n',\n",
       " 'n',\n",
       " 'o',\n",
       " 't',\n",
       " ' ',\n",
       " 'o',\n",
       " 'p',\n",
       " 'e',\n",
       " 'n',\n",
       " ' ',\n",
       " 't',\n",
       " 'h',\n",
       " 'e',\n",
       " ' ',\n",
       " 'a',\n",
       " 'p',\n",
       " 'p',\n",
       " ' ',\n",
       " 'a',\n",
       " 'n',\n",
       " 'y',\n",
       " 'm',\n",
       " 'o',\n",
       " 'r',\n",
       " 'e']"
      ]
     },
     "execution_count": 21,
     "metadata": {},
     "output_type": "execute_result"
    }
   ],
   "source": [
    "nonpunc"
   ]
  },
  {
   "cell_type": "code",
   "execution_count": 22,
   "id": "57454895-0cd6-431a-814d-794a42051c3e",
   "metadata": {},
   "outputs": [],
   "source": [
    "nonpunc = ''.join(nonpunc)"
   ]
  },
  {
   "cell_type": "code",
   "execution_count": 23,
   "id": "08786e80-d174-429a-a92c-ae43320fbada",
   "metadata": {},
   "outputs": [
    {
     "data": {
      "text/plain": [
       "'I cannot open the app anymore'"
      ]
     },
     "execution_count": 23,
     "metadata": {},
     "output_type": "execute_result"
    }
   ],
   "source": [
    "nonpunc"
   ]
  },
  {
   "cell_type": "code",
   "execution_count": 24,
   "id": "f21c0c38-1956-423e-80a5-961d9a922876",
   "metadata": {},
   "outputs": [],
   "source": [
    "stopwords = stopwords.words('English')"
   ]
  },
  {
   "cell_type": "code",
   "execution_count": 25,
   "id": "c5c0d0d1-0807-4533-8aa6-0bd62d726824",
   "metadata": {},
   "outputs": [],
   "source": [
    "nonpunc = nonpunc.split()"
   ]
  },
  {
   "cell_type": "code",
   "execution_count": 26,
   "id": "7c500ca3-e2e9-432c-9fd0-6010f6a14e66",
   "metadata": {},
   "outputs": [
    {
     "data": {
      "text/plain": [
       "['I', 'cannot', 'open', 'the', 'app', 'anymore']"
      ]
     },
     "execution_count": 26,
     "metadata": {},
     "output_type": "execute_result"
    }
   ],
   "source": [
    "nonpunc"
   ]
  },
  {
   "cell_type": "code",
   "execution_count": 27,
   "id": "88faf835-3e8b-4002-b491-e8c40047814d",
   "metadata": {},
   "outputs": [],
   "source": [
    "clean_message = [word for word in nonpunc if word.lower() not in stopwords]"
   ]
  },
  {
   "cell_type": "code",
   "execution_count": 28,
   "id": "24423d32-9cbb-41ae-9c92-f3a212e95e50",
   "metadata": {},
   "outputs": [
    {
     "data": {
      "text/plain": [
       "['cannot', 'open', 'app', 'anymore']"
      ]
     },
     "execution_count": 28,
     "metadata": {},
     "output_type": "execute_result"
    }
   ],
   "source": [
    "clean_message"
   ]
  },
  {
   "cell_type": "markdown",
   "id": "d235efcc-28f3-4783-bd96-d267bcfd9d2a",
   "metadata": {},
   "source": [
    "##### Lets do all this in our whole databse"
   ]
  },
  {
   "cell_type": "code",
   "execution_count": 32,
   "id": "853b8175-3c96-4f83-8603-a7a594befcd7",
   "metadata": {},
   "outputs": [],
   "source": [
    "def text_process(message):\n",
    "    '''\n",
    "    1. Remove non\n",
    "    2. join them\n",
    "    3. split\n",
    "    4. remove stopword\n",
    "    '''\n",
    "    nonpunc = [c for c in message if c not in string.punctuation]\n",
    "    nonpunc = ''.join(nonpunc)\n",
    "    nonpunc = nonpunc.split()\n",
    "\n",
    "    return [word for word in nonpunc if word.lower() not in stopwords]"
   ]
  },
  {
   "cell_type": "code",
   "execution_count": 33,
   "id": "1eaf13b7-d2d7-4d59-8ea5-7c23c4169594",
   "metadata": {},
   "outputs": [
    {
     "data": {
      "text/html": [
       "<div>\n",
       "<style scoped>\n",
       "    .dataframe tbody tr th:only-of-type {\n",
       "        vertical-align: middle;\n",
       "    }\n",
       "\n",
       "    .dataframe tbody tr th {\n",
       "        vertical-align: top;\n",
       "    }\n",
       "\n",
       "    .dataframe thead th {\n",
       "        text-align: right;\n",
       "    }\n",
       "</style>\n",
       "<table border=\"1\" class=\"dataframe\">\n",
       "  <thead>\n",
       "    <tr style=\"text-align: right;\">\n",
       "      <th></th>\n",
       "      <th>content</th>\n",
       "      <th>score</th>\n",
       "      <th>thumbsUpCount</th>\n",
       "    </tr>\n",
       "  </thead>\n",
       "  <tbody>\n",
       "    <tr>\n",
       "      <th>0</th>\n",
       "      <td>I cannot open the app anymore</td>\n",
       "      <td>1</td>\n",
       "      <td>0</td>\n",
       "    </tr>\n",
       "    <tr>\n",
       "      <th>1</th>\n",
       "      <td>I have been begging for a refund from this app...</td>\n",
       "      <td>1</td>\n",
       "      <td>0</td>\n",
       "    </tr>\n",
       "    <tr>\n",
       "      <th>2</th>\n",
       "      <td>Very costly for the premium version (approx In...</td>\n",
       "      <td>1</td>\n",
       "      <td>0</td>\n",
       "    </tr>\n",
       "    <tr>\n",
       "      <th>3</th>\n",
       "      <td>Used to keep me organized, but all the 2020 UP...</td>\n",
       "      <td>1</td>\n",
       "      <td>0</td>\n",
       "    </tr>\n",
       "    <tr>\n",
       "      <th>4</th>\n",
       "      <td>Dan Birthday Oct 28</td>\n",
       "      <td>1</td>\n",
       "      <td>0</td>\n",
       "    </tr>\n",
       "  </tbody>\n",
       "</table>\n",
       "</div>"
      ],
      "text/plain": [
       "                                             content  score  thumbsUpCount\n",
       "0                      I cannot open the app anymore      1              0\n",
       "1  I have been begging for a refund from this app...      1              0\n",
       "2  Very costly for the premium version (approx In...      1              0\n",
       "3  Used to keep me organized, but all the 2020 UP...      1              0\n",
       "4                                Dan Birthday Oct 28      1              0"
      ]
     },
     "execution_count": 33,
     "metadata": {},
     "output_type": "execute_result"
    }
   ],
   "source": [
    "df.head()"
   ]
  },
  {
   "cell_type": "code",
   "execution_count": 34,
   "id": "dd997d4e-5e41-4b95-bb04-d711867c37d4",
   "metadata": {},
   "outputs": [
    {
     "data": {
      "text/plain": [
       "0                             [cannot, open, app, anymore]\n",
       "1          [begging, refund, app, month, nobody, replying]\n",
       "2        [costly, premium, version, approx, Indian, Rup...\n",
       "3        [Used, keep, organized, 2020, UPDATES, made, m...\n",
       "4                                 [Dan, Birthday, Oct, 28]\n",
       "                               ...                        \n",
       "12490    [really, like, planner, helps, achieve, tasks,...\n",
       "12491                                                 [😁😁]\n",
       "12492                            [useful, apps, must, try]\n",
       "12493    [Would, pay, even, additions, updates, Absolut...\n",
       "12494                                        [Sooow, good]\n",
       "Name: content, Length: 12495, dtype: object"
      ]
     },
     "execution_count": 34,
     "metadata": {},
     "output_type": "execute_result"
    }
   ],
   "source": [
    "df['content'].apply(text_process)"
   ]
  },
  {
   "cell_type": "markdown",
   "id": "f077b8cc-c324-45ae-9a83-9f955a0e749f",
   "metadata": {},
   "source": [
    "##### Now let us understand the vertorizer"
   ]
  },
  {
   "cell_type": "code",
   "execution_count": 35,
   "id": "d174923b-d4a5-4202-b722-092426dc40e4",
   "metadata": {},
   "outputs": [],
   "source": [
    "message = df['content'][0]"
   ]
  },
  {
   "cell_type": "code",
   "execution_count": 36,
   "id": "3a565b60-e21c-410d-b426-adfe06e7f35b",
   "metadata": {},
   "outputs": [
    {
     "data": {
      "text/plain": [
       "'I cannot open the app anymore'"
      ]
     },
     "execution_count": 36,
     "metadata": {},
     "output_type": "execute_result"
    }
   ],
   "source": [
    "message"
   ]
  },
  {
   "cell_type": "code",
   "execution_count": 37,
   "id": "2dbbea75-08cd-4561-a235-11a96292cb25",
   "metadata": {},
   "outputs": [],
   "source": [
    "vectorizer = TfidfVectorizer(analyzer=text_process, max_features=500)"
   ]
  },
  {
   "cell_type": "code",
   "execution_count": 38,
   "id": "ffe9e546-b0ce-42ff-a510-476d19ee9145",
   "metadata": {},
   "outputs": [],
   "source": [
    "X = vectorizer.fit_transform(df['content'])"
   ]
  },
  {
   "cell_type": "code",
   "execution_count": 39,
   "id": "1fbc2db8-d988-4e38-b2ce-ed4dbc55fc59",
   "metadata": {},
   "outputs": [
    {
     "name": "stdout",
     "output_type": "stream",
     "text": [
      "<Compressed Sparse Row sparse matrix of dtype 'float64'\n",
      "\twith 103548 stored elements and shape (12495, 500)>\n",
      "  Coords\tValues\n",
      "  (0, 99)\t0.5651490896844238\n",
      "  (0, 312)\t0.5207287486764381\n",
      "  (0, 71)\t0.198512976567532\n",
      "  (0, 69)\t0.6083096866440947\n",
      "  (1, 71)\t0.3255773609287917\n",
      "  (1, 288)\t0.945515405506776\n",
      "  (2, 71)\t0.21572084135751116\n",
      "  (2, 339)\t0.4714102773784137\n",
      "  (2, 470)\t0.4333225993166515\n",
      "  (2, 496)\t0.31247847231627834\n",
      "  (2, 150)\t0.3425294263736816\n",
      "  (2, 463)\t0.18321283303352262\n",
      "  (2, 30)\t0.3342528760884831\n",
      "  (2, 255)\t0.22801965991398554\n",
      "  (2, 175)\t0.2615610000524105\n",
      "  (2, 87)\t0.25059956284314944\n",
      "  (3, 43)\t0.31857326295606775\n",
      "  (3, 238)\t0.4672467053417834\n",
      "  (3, 317)\t0.29421339373965943\n",
      "  (3, 269)\t0.2719723944003917\n",
      "  (3, 431)\t0.23323702289720552\n",
      "  (3, 452)\t0.3154443879620354\n",
      "  (3, 480)\t0.23453592252927533\n",
      "  (3, 178)\t0.29421339373965943\n",
      "  (3, 296)\t0.212318837488275\n",
      "  :\t:\n",
      "  (12485, 206)\t1.0\n",
      "  (12486, 71)\t1.0\n",
      "  (12488, 302)\t0.514528240249598\n",
      "  (12488, 467)\t0.5540113650329569\n",
      "  (12488, 188)\t0.6544708529796966\n",
      "  (12489, 424)\t0.5293158542015002\n",
      "  (12489, 309)\t0.8484248502318495\n",
      "  (12490, 252)\t0.2830228901888738\n",
      "  (12490, 356)\t0.3258086730459318\n",
      "  (12490, 425)\t0.30807948120093054\n",
      "  (12490, 218)\t0.4566025538509141\n",
      "  (12490, 334)\t0.4782895321530623\n",
      "  (12490, 203)\t0.5306477331618209\n",
      "  (12492, 75)\t0.427883914340165\n",
      "  (12492, 448)\t0.4930068720230099\n",
      "  (12492, 465)\t0.45121236995154157\n",
      "  (12492, 294)\t0.6084956673549444\n",
      "  (12493, 165)\t0.5679658801528809\n",
      "  (12493, 494)\t0.2523237279806281\n",
      "  (12493, 325)\t0.3218913368492936\n",
      "  (12493, 460)\t0.4167088744390222\n",
      "  (12493, 45)\t0.37931907183211355\n",
      "  (12493, 267)\t0.27150146103314415\n",
      "  (12493, 485)\t0.34480599604205175\n",
      "  (12494, 206)\t1.0\n"
     ]
    }
   ],
   "source": [
    "print(X)"
   ]
  },
  {
   "cell_type": "code",
   "execution_count": 40,
   "id": "b236b903-2b76-4a34-9a6c-c66626a3a29b",
   "metadata": {},
   "outputs": [
    {
     "data": {
      "text/html": [
       "<div>\n",
       "<style scoped>\n",
       "    .dataframe tbody tr th:only-of-type {\n",
       "        vertical-align: middle;\n",
       "    }\n",
       "\n",
       "    .dataframe tbody tr th {\n",
       "        vertical-align: top;\n",
       "    }\n",
       "\n",
       "    .dataframe thead th {\n",
       "        text-align: right;\n",
       "    }\n",
       "</style>\n",
       "<table border=\"1\" class=\"dataframe\">\n",
       "  <thead>\n",
       "    <tr style=\"text-align: right;\">\n",
       "      <th></th>\n",
       "      <th>content</th>\n",
       "      <th>score</th>\n",
       "      <th>thumbsUpCount</th>\n",
       "    </tr>\n",
       "  </thead>\n",
       "  <tbody>\n",
       "    <tr>\n",
       "      <th>0</th>\n",
       "      <td>I cannot open the app anymore</td>\n",
       "      <td>1</td>\n",
       "      <td>0</td>\n",
       "    </tr>\n",
       "    <tr>\n",
       "      <th>1</th>\n",
       "      <td>I have been begging for a refund from this app...</td>\n",
       "      <td>1</td>\n",
       "      <td>0</td>\n",
       "    </tr>\n",
       "    <tr>\n",
       "      <th>2</th>\n",
       "      <td>Very costly for the premium version (approx In...</td>\n",
       "      <td>1</td>\n",
       "      <td>0</td>\n",
       "    </tr>\n",
       "    <tr>\n",
       "      <th>3</th>\n",
       "      <td>Used to keep me organized, but all the 2020 UP...</td>\n",
       "      <td>1</td>\n",
       "      <td>0</td>\n",
       "    </tr>\n",
       "    <tr>\n",
       "      <th>4</th>\n",
       "      <td>Dan Birthday Oct 28</td>\n",
       "      <td>1</td>\n",
       "      <td>0</td>\n",
       "    </tr>\n",
       "  </tbody>\n",
       "</table>\n",
       "</div>"
      ],
      "text/plain": [
       "                                             content  score  thumbsUpCount\n",
       "0                      I cannot open the app anymore      1              0\n",
       "1  I have been begging for a refund from this app...      1              0\n",
       "2  Very costly for the premium version (approx In...      1              0\n",
       "3  Used to keep me organized, but all the 2020 UP...      1              0\n",
       "4                                Dan Birthday Oct 28      1              0"
      ]
     },
     "execution_count": 40,
     "metadata": {},
     "output_type": "execute_result"
    }
   ],
   "source": [
    "df.head()"
   ]
  },
  {
   "cell_type": "code",
   "execution_count": 41,
   "id": "2c3b928f-834b-4fed-a7a0-7c6a2547dd3b",
   "metadata": {},
   "outputs": [
    {
     "data": {
      "text/plain": [
       "content          object\n",
       "score             int64\n",
       "thumbsUpCount     int64\n",
       "dtype: object"
      ]
     },
     "execution_count": 41,
     "metadata": {},
     "output_type": "execute_result"
    }
   ],
   "source": [
    "df.dtypes"
   ]
  },
  {
   "cell_type": "code",
   "execution_count": 43,
   "id": "12f4d259-b194-430f-9858-4a42ba2c6c4e",
   "metadata": {},
   "outputs": [
    {
     "data": {
      "text/plain": [
       "<Compressed Sparse Row sparse matrix of dtype 'float64'\n",
       "\twith 103548 stored elements and shape (12495, 500)>"
      ]
     },
     "execution_count": 43,
     "metadata": {},
     "output_type": "execute_result"
    }
   ],
   "source": [
    "X"
   ]
  },
  {
   "cell_type": "markdown",
   "id": "2443a562-2a8a-4789-9600-7c17abeaaa75",
   "metadata": {},
   "source": [
    "##### We alos want use the other two column with our X but we cnnot use this directly"
   ]
  },
  {
   "cell_type": "code",
   "execution_count": 45,
   "id": "38ba39ef-2397-4603-9587-96e7fd8e549a",
   "metadata": {},
   "outputs": [],
   "source": [
    "scaler = StandardScaler()"
   ]
  },
  {
   "cell_type": "code",
   "execution_count": 47,
   "id": "310fe499-6ec8-4d5c-be1c-3947c1f5d039",
   "metadata": {},
   "outputs": [],
   "source": [
    "numeric_data = df[['score', 'thumbsUpCount']]"
   ]
  },
  {
   "cell_type": "code",
   "execution_count": 48,
   "id": "6d620b90-cb62-4225-a477-391962df7bae",
   "metadata": {},
   "outputs": [
    {
     "data": {
      "text/html": [
       "<div>\n",
       "<style scoped>\n",
       "    .dataframe tbody tr th:only-of-type {\n",
       "        vertical-align: middle;\n",
       "    }\n",
       "\n",
       "    .dataframe tbody tr th {\n",
       "        vertical-align: top;\n",
       "    }\n",
       "\n",
       "    .dataframe thead th {\n",
       "        text-align: right;\n",
       "    }\n",
       "</style>\n",
       "<table border=\"1\" class=\"dataframe\">\n",
       "  <thead>\n",
       "    <tr style=\"text-align: right;\">\n",
       "      <th></th>\n",
       "      <th>score</th>\n",
       "      <th>thumbsUpCount</th>\n",
       "    </tr>\n",
       "  </thead>\n",
       "  <tbody>\n",
       "    <tr>\n",
       "      <th>0</th>\n",
       "      <td>1</td>\n",
       "      <td>0</td>\n",
       "    </tr>\n",
       "    <tr>\n",
       "      <th>1</th>\n",
       "      <td>1</td>\n",
       "      <td>0</td>\n",
       "    </tr>\n",
       "    <tr>\n",
       "      <th>2</th>\n",
       "      <td>1</td>\n",
       "      <td>0</td>\n",
       "    </tr>\n",
       "    <tr>\n",
       "      <th>3</th>\n",
       "      <td>1</td>\n",
       "      <td>0</td>\n",
       "    </tr>\n",
       "    <tr>\n",
       "      <th>4</th>\n",
       "      <td>1</td>\n",
       "      <td>0</td>\n",
       "    </tr>\n",
       "    <tr>\n",
       "      <th>...</th>\n",
       "      <td>...</td>\n",
       "      <td>...</td>\n",
       "    </tr>\n",
       "    <tr>\n",
       "      <th>12490</th>\n",
       "      <td>5</td>\n",
       "      <td>0</td>\n",
       "    </tr>\n",
       "    <tr>\n",
       "      <th>12491</th>\n",
       "      <td>5</td>\n",
       "      <td>0</td>\n",
       "    </tr>\n",
       "    <tr>\n",
       "      <th>12492</th>\n",
       "      <td>5</td>\n",
       "      <td>0</td>\n",
       "    </tr>\n",
       "    <tr>\n",
       "      <th>12493</th>\n",
       "      <td>5</td>\n",
       "      <td>0</td>\n",
       "    </tr>\n",
       "    <tr>\n",
       "      <th>12494</th>\n",
       "      <td>5</td>\n",
       "      <td>0</td>\n",
       "    </tr>\n",
       "  </tbody>\n",
       "</table>\n",
       "<p>12495 rows × 2 columns</p>\n",
       "</div>"
      ],
      "text/plain": [
       "       score  thumbsUpCount\n",
       "0          1              0\n",
       "1          1              0\n",
       "2          1              0\n",
       "3          1              0\n",
       "4          1              0\n",
       "...      ...            ...\n",
       "12490      5              0\n",
       "12491      5              0\n",
       "12492      5              0\n",
       "12493      5              0\n",
       "12494      5              0\n",
       "\n",
       "[12495 rows x 2 columns]"
      ]
     },
     "execution_count": 48,
     "metadata": {},
     "output_type": "execute_result"
    }
   ],
   "source": [
    "numeric_data"
   ]
  },
  {
   "cell_type": "code",
   "execution_count": 49,
   "id": "b921a74a-5148-41da-aeeb-b1d7a177d0f1",
   "metadata": {},
   "outputs": [],
   "source": [
    "numric_data = scaler.fit_transform(numeric_data)"
   ]
  },
  {
   "cell_type": "code",
   "execution_count": 50,
   "id": "03bf3164-2128-4eca-a2a5-f972725da93b",
   "metadata": {},
   "outputs": [
    {
     "data": {
      "text/html": [
       "<div>\n",
       "<style scoped>\n",
       "    .dataframe tbody tr th:only-of-type {\n",
       "        vertical-align: middle;\n",
       "    }\n",
       "\n",
       "    .dataframe tbody tr th {\n",
       "        vertical-align: top;\n",
       "    }\n",
       "\n",
       "    .dataframe thead th {\n",
       "        text-align: right;\n",
       "    }\n",
       "</style>\n",
       "<table border=\"1\" class=\"dataframe\">\n",
       "  <thead>\n",
       "    <tr style=\"text-align: right;\">\n",
       "      <th></th>\n",
       "      <th>score</th>\n",
       "      <th>thumbsUpCount</th>\n",
       "    </tr>\n",
       "  </thead>\n",
       "  <tbody>\n",
       "    <tr>\n",
       "      <th>0</th>\n",
       "      <td>1</td>\n",
       "      <td>0</td>\n",
       "    </tr>\n",
       "    <tr>\n",
       "      <th>1</th>\n",
       "      <td>1</td>\n",
       "      <td>0</td>\n",
       "    </tr>\n",
       "    <tr>\n",
       "      <th>2</th>\n",
       "      <td>1</td>\n",
       "      <td>0</td>\n",
       "    </tr>\n",
       "    <tr>\n",
       "      <th>3</th>\n",
       "      <td>1</td>\n",
       "      <td>0</td>\n",
       "    </tr>\n",
       "    <tr>\n",
       "      <th>4</th>\n",
       "      <td>1</td>\n",
       "      <td>0</td>\n",
       "    </tr>\n",
       "    <tr>\n",
       "      <th>...</th>\n",
       "      <td>...</td>\n",
       "      <td>...</td>\n",
       "    </tr>\n",
       "    <tr>\n",
       "      <th>12490</th>\n",
       "      <td>5</td>\n",
       "      <td>0</td>\n",
       "    </tr>\n",
       "    <tr>\n",
       "      <th>12491</th>\n",
       "      <td>5</td>\n",
       "      <td>0</td>\n",
       "    </tr>\n",
       "    <tr>\n",
       "      <th>12492</th>\n",
       "      <td>5</td>\n",
       "      <td>0</td>\n",
       "    </tr>\n",
       "    <tr>\n",
       "      <th>12493</th>\n",
       "      <td>5</td>\n",
       "      <td>0</td>\n",
       "    </tr>\n",
       "    <tr>\n",
       "      <th>12494</th>\n",
       "      <td>5</td>\n",
       "      <td>0</td>\n",
       "    </tr>\n",
       "  </tbody>\n",
       "</table>\n",
       "<p>12495 rows × 2 columns</p>\n",
       "</div>"
      ],
      "text/plain": [
       "       score  thumbsUpCount\n",
       "0          1              0\n",
       "1          1              0\n",
       "2          1              0\n",
       "3          1              0\n",
       "4          1              0\n",
       "...      ...            ...\n",
       "12490      5              0\n",
       "12491      5              0\n",
       "12492      5              0\n",
       "12493      5              0\n",
       "12494      5              0\n",
       "\n",
       "[12495 rows x 2 columns]"
      ]
     },
     "execution_count": 50,
     "metadata": {},
     "output_type": "execute_result"
    }
   ],
   "source": [
    "numeric_data"
   ]
  },
  {
   "cell_type": "code",
   "execution_count": 52,
   "id": "7bb91734-e66a-4a17-927c-220ef0f8c0cd",
   "metadata": {},
   "outputs": [],
   "source": [
    "numeric_data = csr_matrix(numeric_data)"
   ]
  },
  {
   "cell_type": "code",
   "execution_count": 53,
   "id": "03742514-bd00-499e-8528-b0b5563c4b53",
   "metadata": {},
   "outputs": [
    {
     "data": {
      "text/plain": [
       "<Compressed Sparse Row sparse matrix of dtype 'int64'\n",
       "\twith 16259 stored elements and shape (12495, 2)>"
      ]
     },
     "execution_count": 53,
     "metadata": {},
     "output_type": "execute_result"
    }
   ],
   "source": [
    "numeric_data"
   ]
  },
  {
   "cell_type": "code",
   "execution_count": 54,
   "id": "90ea3e5b-2f7f-40c2-853b-e24b4122b9a8",
   "metadata": {},
   "outputs": [],
   "source": [
    "combined_data = hstack([X, numeric_data])"
   ]
  },
  {
   "cell_type": "code",
   "execution_count": 55,
   "id": "c70865ec-54e9-4ed8-aa40-de5ce50cca75",
   "metadata": {},
   "outputs": [
    {
     "data": {
      "text/plain": [
       "<Compressed Sparse Row sparse matrix of dtype 'float64'\n",
       "\twith 119807 stored elements and shape (12495, 502)>"
      ]
     },
     "execution_count": 55,
     "metadata": {},
     "output_type": "execute_result"
    }
   ],
   "source": [
    "combined_data"
   ]
  },
  {
   "cell_type": "markdown",
   "id": "c2bb4922-e746-413f-820c-4f69101a29d2",
   "metadata": {},
   "source": [
    "##### Now let do clustering"
   ]
  },
  {
   "cell_type": "code",
   "execution_count": 57,
   "id": "01ca9bbd-6370-4123-82d0-d36c94e98383",
   "metadata": {},
   "outputs": [],
   "source": [
    "kmeans = KMeans(n_clusters=5, random_state=42)"
   ]
  },
  {
   "cell_type": "code",
   "execution_count": 60,
   "id": "d4becc8d-5eeb-4428-8062-640fdad41c6a",
   "metadata": {},
   "outputs": [],
   "source": [
    "kmeans.fit(combined_data)\n",
    "\n",
    "clusters = kmeans.predict(combined_data)"
   ]
  },
  {
   "cell_type": "code",
   "execution_count": 61,
   "id": "7dc7be8d-75a4-43f2-b7ec-32fd500f507a",
   "metadata": {},
   "outputs": [
    {
     "data": {
      "text/plain": [
       "array([4, 4, 4, ..., 0, 0, 0])"
      ]
     },
     "execution_count": 61,
     "metadata": {},
     "output_type": "execute_result"
    }
   ],
   "source": [
    "clusters"
   ]
  },
  {
   "cell_type": "code",
   "execution_count": 62,
   "id": "8c6e45f3-b4d0-4743-9aaa-db7849107672",
   "metadata": {},
   "outputs": [],
   "source": [
    "df['cluster'] = clusters"
   ]
  },
  {
   "cell_type": "code",
   "execution_count": 64,
   "id": "e7793c2b-a5e9-4cd9-ba33-d6ffcd6a900b",
   "metadata": {},
   "outputs": [
    {
     "data": {
      "text/html": [
       "<div>\n",
       "<style scoped>\n",
       "    .dataframe tbody tr th:only-of-type {\n",
       "        vertical-align: middle;\n",
       "    }\n",
       "\n",
       "    .dataframe tbody tr th {\n",
       "        vertical-align: top;\n",
       "    }\n",
       "\n",
       "    .dataframe thead th {\n",
       "        text-align: right;\n",
       "    }\n",
       "</style>\n",
       "<table border=\"1\" class=\"dataframe\">\n",
       "  <thead>\n",
       "    <tr style=\"text-align: right;\">\n",
       "      <th></th>\n",
       "      <th>content</th>\n",
       "      <th>score</th>\n",
       "      <th>thumbsUpCount</th>\n",
       "      <th>cluster</th>\n",
       "    </tr>\n",
       "  </thead>\n",
       "  <tbody>\n",
       "    <tr>\n",
       "      <th>0</th>\n",
       "      <td>I cannot open the app anymore</td>\n",
       "      <td>1</td>\n",
       "      <td>0</td>\n",
       "      <td>4</td>\n",
       "    </tr>\n",
       "    <tr>\n",
       "      <th>1</th>\n",
       "      <td>I have been begging for a refund from this app...</td>\n",
       "      <td>1</td>\n",
       "      <td>0</td>\n",
       "      <td>4</td>\n",
       "    </tr>\n",
       "    <tr>\n",
       "      <th>2</th>\n",
       "      <td>Very costly for the premium version (approx In...</td>\n",
       "      <td>1</td>\n",
       "      <td>0</td>\n",
       "      <td>4</td>\n",
       "    </tr>\n",
       "    <tr>\n",
       "      <th>3</th>\n",
       "      <td>Used to keep me organized, but all the 2020 UP...</td>\n",
       "      <td>1</td>\n",
       "      <td>0</td>\n",
       "      <td>4</td>\n",
       "    </tr>\n",
       "    <tr>\n",
       "      <th>4</th>\n",
       "      <td>Dan Birthday Oct 28</td>\n",
       "      <td>1</td>\n",
       "      <td>0</td>\n",
       "      <td>4</td>\n",
       "    </tr>\n",
       "  </tbody>\n",
       "</table>\n",
       "</div>"
      ],
      "text/plain": [
       "                                             content  score  thumbsUpCount  \\\n",
       "0                      I cannot open the app anymore      1              0   \n",
       "1  I have been begging for a refund from this app...      1              0   \n",
       "2  Very costly for the premium version (approx In...      1              0   \n",
       "3  Used to keep me organized, but all the 2020 UP...      1              0   \n",
       "4                                Dan Birthday Oct 28      1              0   \n",
       "\n",
       "   cluster  \n",
       "0        4  \n",
       "1        4  \n",
       "2        4  \n",
       "3        4  \n",
       "4        4  "
      ]
     },
     "execution_count": 64,
     "metadata": {},
     "output_type": "execute_result"
    }
   ],
   "source": [
    "df.head()"
   ]
  },
  {
   "cell_type": "code",
   "execution_count": 65,
   "id": "1639db36-06a7-4158-a242-cb82d44b0c13",
   "metadata": {},
   "outputs": [
    {
     "data": {
      "text/html": [
       "<div>\n",
       "<style scoped>\n",
       "    .dataframe tbody tr th:only-of-type {\n",
       "        vertical-align: middle;\n",
       "    }\n",
       "\n",
       "    .dataframe tbody tr th {\n",
       "        vertical-align: top;\n",
       "    }\n",
       "\n",
       "    .dataframe thead th {\n",
       "        text-align: right;\n",
       "    }\n",
       "</style>\n",
       "<table border=\"1\" class=\"dataframe\">\n",
       "  <thead>\n",
       "    <tr style=\"text-align: right;\">\n",
       "      <th></th>\n",
       "      <th>score</th>\n",
       "      <th>thumbsUpCount</th>\n",
       "    </tr>\n",
       "    <tr>\n",
       "      <th>cluster</th>\n",
       "      <th></th>\n",
       "      <th></th>\n",
       "    </tr>\n",
       "  </thead>\n",
       "  <tbody>\n",
       "    <tr>\n",
       "      <th>0</th>\n",
       "      <td>3.795015</td>\n",
       "      <td>0.132440</td>\n",
       "    </tr>\n",
       "    <tr>\n",
       "      <th>1</th>\n",
       "      <td>2.817204</td>\n",
       "      <td>106.301075</td>\n",
       "    </tr>\n",
       "    <tr>\n",
       "      <th>2</th>\n",
       "      <td>3.000000</td>\n",
       "      <td>284.818182</td>\n",
       "    </tr>\n",
       "    <tr>\n",
       "      <th>3</th>\n",
       "      <td>2.787654</td>\n",
       "      <td>33.222222</td>\n",
       "    </tr>\n",
       "    <tr>\n",
       "      <th>4</th>\n",
       "      <td>1.691739</td>\n",
       "      <td>2.686384</td>\n",
       "    </tr>\n",
       "  </tbody>\n",
       "</table>\n",
       "</div>"
      ],
      "text/plain": [
       "            score  thumbsUpCount\n",
       "cluster                         \n",
       "0        3.795015       0.132440\n",
       "1        2.817204     106.301075\n",
       "2        3.000000     284.818182\n",
       "3        2.787654      33.222222\n",
       "4        1.691739       2.686384"
      ]
     },
     "execution_count": 65,
     "metadata": {},
     "output_type": "execute_result"
    }
   ],
   "source": [
    "df.groupby('cluster')[['score', 'thumbsUpCount']].mean()"
   ]
  },
  {
   "cell_type": "code",
   "execution_count": 67,
   "id": "5f39fa3c-6d2f-4a87-88b0-35f443139f45",
   "metadata": {},
   "outputs": [
    {
     "data": {
      "text/html": [
       "<div>\n",
       "<style scoped>\n",
       "    .dataframe tbody tr th:only-of-type {\n",
       "        vertical-align: middle;\n",
       "    }\n",
       "\n",
       "    .dataframe tbody tr th {\n",
       "        vertical-align: top;\n",
       "    }\n",
       "\n",
       "    .dataframe thead th {\n",
       "        text-align: right;\n",
       "    }\n",
       "</style>\n",
       "<table border=\"1\" class=\"dataframe\">\n",
       "  <thead>\n",
       "    <tr style=\"text-align: right;\">\n",
       "      <th></th>\n",
       "      <th>content</th>\n",
       "      <th>score</th>\n",
       "      <th>thumbsUpCount</th>\n",
       "      <th>cluster</th>\n",
       "    </tr>\n",
       "  </thead>\n",
       "  <tbody>\n",
       "    <tr>\n",
       "      <th>0</th>\n",
       "      <td>I cannot open the app anymore</td>\n",
       "      <td>1</td>\n",
       "      <td>0</td>\n",
       "      <td>4</td>\n",
       "    </tr>\n",
       "    <tr>\n",
       "      <th>1</th>\n",
       "      <td>I have been begging for a refund from this app...</td>\n",
       "      <td>1</td>\n",
       "      <td>0</td>\n",
       "      <td>4</td>\n",
       "    </tr>\n",
       "    <tr>\n",
       "      <th>2</th>\n",
       "      <td>Very costly for the premium version (approx In...</td>\n",
       "      <td>1</td>\n",
       "      <td>0</td>\n",
       "      <td>4</td>\n",
       "    </tr>\n",
       "    <tr>\n",
       "      <th>3</th>\n",
       "      <td>Used to keep me organized, but all the 2020 UP...</td>\n",
       "      <td>1</td>\n",
       "      <td>0</td>\n",
       "      <td>4</td>\n",
       "    </tr>\n",
       "    <tr>\n",
       "      <th>4</th>\n",
       "      <td>Dan Birthday Oct 28</td>\n",
       "      <td>1</td>\n",
       "      <td>0</td>\n",
       "      <td>4</td>\n",
       "    </tr>\n",
       "  </tbody>\n",
       "</table>\n",
       "</div>"
      ],
      "text/plain": [
       "                                             content  score  thumbsUpCount  \\\n",
       "0                      I cannot open the app anymore      1              0   \n",
       "1  I have been begging for a refund from this app...      1              0   \n",
       "2  Very costly for the premium version (approx In...      1              0   \n",
       "3  Used to keep me organized, but all the 2020 UP...      1              0   \n",
       "4                                Dan Birthday Oct 28      1              0   \n",
       "\n",
       "   cluster  \n",
       "0        4  \n",
       "1        4  \n",
       "2        4  \n",
       "3        4  \n",
       "4        4  "
      ]
     },
     "execution_count": 67,
     "metadata": {},
     "output_type": "execute_result"
    }
   ],
   "source": [
    "df.head()"
   ]
  },
  {
   "cell_type": "code",
   "execution_count": 69,
   "id": "6bb6c364-1e49-46f4-b75e-2706d846a9ca",
   "metadata": {},
   "outputs": [],
   "source": [
    "pca = PCA(n_components=2, random_state=42)"
   ]
  },
  {
   "cell_type": "code",
   "execution_count": 70,
   "id": "1ba45439-0ade-4d50-b04e-ff3a8ee10fd0",
   "metadata": {},
   "outputs": [],
   "source": [
    "X_dense = combined_data.toarray()"
   ]
  },
  {
   "cell_type": "code",
   "execution_count": 71,
   "id": "9514c4df-ab1c-41a8-ba42-e72847629fe3",
   "metadata": {},
   "outputs": [],
   "source": [
    "X_pca = pca.fit_transform(X_dense)"
   ]
  },
  {
   "cell_type": "code",
   "execution_count": 73,
   "id": "a7a9f108-dbbd-432f-ba9d-6e7875281674",
   "metadata": {},
   "outputs": [
    {
     "data": {
      "text/plain": [
       "array([[-3.03728349, -2.10989807],\n",
       "       [-3.03735351, -2.10710181],\n",
       "       [-3.03716895, -2.11083947],\n",
       "       ...,\n",
       "       [-3.05671846,  1.89070664],\n",
       "       [-3.05658373,  1.88836975],\n",
       "       [-3.05697736,  1.89483952]])"
      ]
     },
     "execution_count": 73,
     "metadata": {},
     "output_type": "execute_result"
    }
   ],
   "source": [
    "X_pca"
   ]
  },
  {
   "cell_type": "code",
   "execution_count": 81,
   "id": "5bf112d7-1547-48c4-9d53-9395aa35e8e3",
   "metadata": {},
   "outputs": [
    {
     "data": {
      "text/plain": [
       "array([-3.03728349, -3.03735351, -3.03716895, ..., -3.05671846,\n",
       "       -3.05658373, -3.05697736])"
      ]
     },
     "execution_count": 81,
     "metadata": {},
     "output_type": "execute_result"
    }
   ],
   "source": [
    "X_pca[:, 0]"
   ]
  },
  {
   "cell_type": "code",
   "execution_count": 86,
   "id": "d1c201a1-b074-4689-ac41-490bc30b0997",
   "metadata": {},
   "outputs": [],
   "source": [
    "df1 = pd.DataFrame({\n",
    "    'PC1': X_pca[:, 0],\n",
    "    'PC2': X_pca[:, 1],\n",
    "    'cluster':df['cluster'].astype(str)\n",
    "})"
   ]
  },
  {
   "cell_type": "code",
   "execution_count": 87,
   "id": "a58268ac-11f8-4af6-9a61-47e5f0bdb250",
   "metadata": {},
   "outputs": [
    {
     "data": {
      "text/plain": [
       "<Axes: xlabel='PC1', ylabel='PC2'>"
      ]
     },
     "execution_count": 87,
     "metadata": {},
     "output_type": "execute_result"
    },
    {
     "data": {
      "image/png": "[encoded data removed]",
      "text/plain": [
       "<Figure size 640x480 with 1 Axes>"
      ]
     },
     "metadata": {},
     "output_type": "display_data"
    }
   ],
   "source": [
    "sns.scatterplot(data=df1, x='PC1', y='PC2', hue = 'cluster'"
   ]
  }
 ],
 "metadata": {
  "kernelspec": {
   "display_name": "Python 3 (ipykernel)",
   "language": "python",
   "name": "python3"
  },
  "language_info": {
   "codemirror_mode": {
    "name": "ipython",
    "version": 3
   },
   "file_extension": ".py",
   "mimetype": "text/x-python",
   "name": "python",
   "nbconvert_exporter": "python",
   "pygments_lexer": "ipython3",
   "version": "3.11.8"
  }
 },
 "nbformat": 4,
 "nbformat_minor": 5
}
